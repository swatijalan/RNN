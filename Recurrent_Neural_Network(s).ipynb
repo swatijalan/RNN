{
  "nbformat": 4,
  "nbformat_minor": 0,
  "metadata": {
    "colab": {
      "provenance": []
    },
    "kernelspec": {
      "name": "python3",
      "display_name": "Python 3"
    },
    "language_info": {
      "name": "python"
    }
  },
  "cells": [
    {
      "cell_type": "code",
      "execution_count": 10,
      "metadata": {
        "id": "fyW3WHeZg9Ua"
      },
      "outputs": [],
      "source": []
    },
    {
      "cell_type": "markdown",
      "source": [
        "**Problem Statement:**\n",
        "\n",
        "Build a sentiment analysis model using Recurrent Neural Networks (RNNs) to\n",
        "classify movie reviews from the IMDB dataset into positive or negative\n",
        "sentiments.\n",
        "\n",
        "**Dataset:**\n",
        "\n",
        "The dataset comprises 25,000 movie reviews from IMDB, labeled by sentiment\n",
        "(positive/negative). Reviews have been preprocessed, and each review is\n",
        "encoded as a sequence of word indices (integers). The words in the dataset are\n",
        "indexed by overall frequency in the dataset, allowing for quick filtering operations such as: \"only consider the top 10,000 most common words, but eliminate the top\n",
        "20 most common words\"."
      ],
      "metadata": {
        "id": "kP34waCrg_Kv"
      }
    },
    {
      "cell_type": "code",
      "source": [
        "\n",
        "from tensorflow.keras.layers import SimpleRNN, Bidirectional, Dense, Embedding\n",
        "from tensorflow.keras.datasets import imdb\n",
        "from tensorflow.keras.models import Sequential\n",
        "import numpy as np"
      ],
      "metadata": {
        "id": "p-Lc5O8PhACX"
      },
      "execution_count": 11,
      "outputs": []
    },
    {
      "cell_type": "code",
      "source": [
        "import tensorflow as tf\n",
        "imdb = tf.keras.datasets.imdb\n",
        "(train_data, train_labels), (test_data, test_labels) = imdb.load_data(num_words=10000)"
      ],
      "metadata": {
        "id": "oegEhG8Rha9g"
      },
      "execution_count": 12,
      "outputs": []
    },
    {
      "cell_type": "code",
      "source": [
        "print(train_data[0])"
      ],
      "metadata": {
        "colab": {
          "base_uri": "https://localhost:8080/"
        },
        "id": "aUuJ8-J1lWR6",
        "outputId": "ffbbbff0-9883-4221-a8d1-c1a5a88523b2"
      },
      "execution_count": 13,
      "outputs": [
        {
          "output_type": "stream",
          "name": "stdout",
          "text": [
            "[1, 14, 22, 16, 43, 530, 973, 1622, 1385, 65, 458, 4468, 66, 3941, 4, 173, 36, 256, 5, 25, 100, 43, 838, 112, 50, 670, 2, 9, 35, 480, 284, 5, 150, 4, 172, 112, 167, 2, 336, 385, 39, 4, 172, 4536, 1111, 17, 546, 38, 13, 447, 4, 192, 50, 16, 6, 147, 2025, 19, 14, 22, 4, 1920, 4613, 469, 4, 22, 71, 87, 12, 16, 43, 530, 38, 76, 15, 13, 1247, 4, 22, 17, 515, 17, 12, 16, 626, 18, 2, 5, 62, 386, 12, 8, 316, 8, 106, 5, 4, 2223, 5244, 16, 480, 66, 3785, 33, 4, 130, 12, 16, 38, 619, 5, 25, 124, 51, 36, 135, 48, 25, 1415, 33, 6, 22, 12, 215, 28, 77, 52, 5, 14, 407, 16, 82, 2, 8, 4, 107, 117, 5952, 15, 256, 4, 2, 7, 3766, 5, 723, 36, 71, 43, 530, 476, 26, 400, 317, 46, 7, 4, 2, 1029, 13, 104, 88, 4, 381, 15, 297, 98, 32, 2071, 56, 26, 141, 6, 194, 7486, 18, 4, 226, 22, 21, 134, 476, 26, 480, 5, 144, 30, 5535, 18, 51, 36, 28, 224, 92, 25, 104, 4, 226, 65, 16, 38, 1334, 88, 12, 16, 283, 5, 16, 4472, 113, 103, 32, 15, 16, 5345, 19, 178, 32]\n"
          ]
        }
      ]
    },
    {
      "cell_type": "markdown",
      "source": [
        "These are the index values of the words and hence we done see any reviews."
      ],
      "metadata": {
        "id": "Tq9NEHM_mj6e"
      }
    },
    {
      "cell_type": "code",
      "source": [
        "train_data[24999]"
      ],
      "metadata": {
        "colab": {
          "base_uri": "https://localhost:8080/"
        },
        "id": "3lGJtVRmm0_0",
        "outputId": "db7692a6-21ec-4305-c4e3-7dd1cf5d7eb4"
      },
      "execution_count": 10,
      "outputs": [
        {
          "output_type": "execute_result",
          "data": {
            "text/plain": [
              "[1,\n",
              " 17,\n",
              " 6,\n",
              " 194,\n",
              " 337,\n",
              " 7,\n",
              " 4,\n",
              " 204,\n",
              " 22,\n",
              " 45,\n",
              " 254,\n",
              " 8,\n",
              " 106,\n",
              " 14,\n",
              " 123,\n",
              " 4,\n",
              " 2,\n",
              " 270,\n",
              " 2,\n",
              " 5,\n",
              " 2,\n",
              " 2,\n",
              " 732,\n",
              " 2098,\n",
              " 101,\n",
              " 405,\n",
              " 39,\n",
              " 14,\n",
              " 1034,\n",
              " 4,\n",
              " 1310,\n",
              " 9,\n",
              " 115,\n",
              " 50,\n",
              " 305,\n",
              " 12,\n",
              " 47,\n",
              " 4,\n",
              " 168,\n",
              " 5,\n",
              " 235,\n",
              " 7,\n",
              " 38,\n",
              " 111,\n",
              " 699,\n",
              " 102,\n",
              " 7,\n",
              " 4,\n",
              " 4039,\n",
              " 9245,\n",
              " 9,\n",
              " 24,\n",
              " 6,\n",
              " 78,\n",
              " 1099,\n",
              " 17,\n",
              " 2345,\n",
              " 2,\n",
              " 21,\n",
              " 27,\n",
              " 9685,\n",
              " 6139,\n",
              " 5,\n",
              " 2,\n",
              " 1603,\n",
              " 92,\n",
              " 1183,\n",
              " 4,\n",
              " 1310,\n",
              " 7,\n",
              " 4,\n",
              " 204,\n",
              " 42,\n",
              " 97,\n",
              " 90,\n",
              " 35,\n",
              " 221,\n",
              " 109,\n",
              " 29,\n",
              " 127,\n",
              " 27,\n",
              " 118,\n",
              " 8,\n",
              " 97,\n",
              " 12,\n",
              " 157,\n",
              " 21,\n",
              " 6789,\n",
              " 2,\n",
              " 9,\n",
              " 6,\n",
              " 66,\n",
              " 78,\n",
              " 1099,\n",
              " 4,\n",
              " 631,\n",
              " 1191,\n",
              " 5,\n",
              " 2642,\n",
              " 272,\n",
              " 191,\n",
              " 1070,\n",
              " 6,\n",
              " 7585,\n",
              " 8,\n",
              " 2197,\n",
              " 2,\n",
              " 2,\n",
              " 544,\n",
              " 5,\n",
              " 383,\n",
              " 1271,\n",
              " 848,\n",
              " 1468,\n",
              " 2,\n",
              " 497,\n",
              " 2,\n",
              " 8,\n",
              " 1597,\n",
              " 8778,\n",
              " 2,\n",
              " 21,\n",
              " 60,\n",
              " 27,\n",
              " 239,\n",
              " 9,\n",
              " 43,\n",
              " 8368,\n",
              " 209,\n",
              " 405,\n",
              " 10,\n",
              " 10,\n",
              " 12,\n",
              " 764,\n",
              " 40,\n",
              " 4,\n",
              " 248,\n",
              " 20,\n",
              " 12,\n",
              " 16,\n",
              " 5,\n",
              " 174,\n",
              " 1791,\n",
              " 72,\n",
              " 7,\n",
              " 51,\n",
              " 6,\n",
              " 1739,\n",
              " 22,\n",
              " 4,\n",
              " 204,\n",
              " 131,\n",
              " 9]"
            ]
          },
          "metadata": {},
          "execution_count": 10
        }
      ]
    },
    {
      "cell_type": "code",
      "source": [
        "# Getting all the words from word_index dictionary\n",
        "word_idx = imdb.get_word_index()\n",
        "\n",
        "# Originally the index number of a value and not a key,\n",
        "# hence converting the index as key and the words as values\n",
        "word_idx = {i: word for word, i in word_idx.items()}\n",
        "\n",
        "# again printing the review\n",
        "print([word_idx[i] for i in train_data[0]])"
      ],
      "metadata": {
        "colab": {
          "base_uri": "https://localhost:8080/"
        },
        "id": "Z7TS0UYhlh_e",
        "outputId": "e37f7cec-ffc4-492f-d82d-eed12c2b62e0"
      },
      "execution_count": 14,
      "outputs": [
        {
          "output_type": "stream",
          "name": "stdout",
          "text": [
            "['the', 'as', 'you', 'with', 'out', 'themselves', 'powerful', 'lets', 'loves', 'their', 'becomes', 'reaching', 'had', 'journalist', 'of', 'lot', 'from', 'anyone', 'to', 'have', 'after', 'out', 'atmosphere', 'never', 'more', 'room', 'and', 'it', 'so', 'heart', 'shows', 'to', 'years', 'of', 'every', 'never', 'going', 'and', 'help', 'moments', 'or', 'of', 'every', 'chest', 'visual', 'movie', 'except', 'her', 'was', 'several', 'of', 'enough', 'more', 'with', 'is', 'now', 'current', 'film', 'as', 'you', 'of', 'mine', 'potentially', 'unfortunately', 'of', 'you', 'than', 'him', 'that', 'with', 'out', 'themselves', 'her', 'get', 'for', 'was', 'camp', 'of', 'you', 'movie', 'sometimes', 'movie', 'that', 'with', 'scary', 'but', 'and', 'to', 'story', 'wonderful', 'that', 'in', 'seeing', 'in', 'character', 'to', 'of', '70s', 'musicians', 'with', 'heart', 'had', 'shadows', 'they', 'of', 'here', 'that', 'with', 'her', 'serious', 'to', 'have', 'does', 'when', 'from', 'why', 'what', 'have', 'critics', 'they', 'is', 'you', 'that', \"isn't\", 'one', 'will', 'very', 'to', 'as', 'itself', 'with', 'other', 'and', 'in', 'of', 'seen', 'over', 'landed', 'for', 'anyone', 'of', 'and', 'br', \"show's\", 'to', 'whether', 'from', 'than', 'out', 'themselves', 'history', 'he', 'name', 'half', 'some', 'br', 'of', 'and', 'odd', 'was', 'two', 'most', 'of', 'mean', 'for', '1', 'any', 'an', 'boat', 'she', 'he', 'should', 'is', 'thought', 'frog', 'but', 'of', 'script', 'you', 'not', 'while', 'history', 'he', 'heart', 'to', 'real', 'at', 'barrel', 'but', 'when', 'from', 'one', 'bit', 'then', 'have', 'two', 'of', 'script', 'their', 'with', 'her', 'nobody', 'most', 'that', 'with', \"wasn't\", 'to', 'with', 'armed', 'acting', 'watch', 'an', 'for', 'with', 'heartfelt', 'film', 'want', 'an']\n"
          ]
        }
      ]
    },
    {
      "cell_type": "code",
      "source": [
        "# Get the minimum and the maximum length of reviews\n",
        "print(\"Max length of a review:: \", len(max((train_data+test_data), key=len)))\n",
        "print(\"Min length of a review:: \", len(min((train_data+test_data), key=len)))"
      ],
      "metadata": {
        "colab": {
          "base_uri": "https://localhost:8080/"
        },
        "id": "Hb3ZyVTpmqBt",
        "outputId": "fcc4808a-7dcb-4ca1-b6ef-5986ebcd047c"
      },
      "execution_count": 16,
      "outputs": [
        {
          "output_type": "stream",
          "name": "stdout",
          "text": [
            "Max length of a review::  2697\n",
            "Min length of a review::  70\n"
          ]
        }
      ]
    },
    {
      "cell_type": "markdown",
      "source": [
        "with Neural Networks, it is important to make all the inputs in a fixed size. Here we can see that the inputs are of variable length. Hence we the pad the reviews."
      ],
      "metadata": {
        "id": "ZuiPUu0D3dVn"
      }
    },
    {
      "cell_type": "code",
      "source": [
        "from tensorflow.keras.preprocessing import sequence\n",
        "\n",
        "# Keeping a fixed length of all reviews to max 400 words\n",
        "max_words = 400\n",
        "\n",
        "x_train = sequence.pad_sequences(train_data, maxlen=max_words)\n",
        "x_test = sequence.pad_sequences(test_data, maxlen=max_words)\n",
        "\n",
        "x_valid, y_valid = x_train[:64], train_labels[:64]\n",
        "x_train_, y_train_ = x_train[64:], train_labels[64:]"
      ],
      "metadata": {
        "id": "KKNQZN1v2iOH"
      },
      "execution_count": 18,
      "outputs": []
    },
    {
      "cell_type": "markdown",
      "source": [
        "Question part - Model building\n",
        "\n",
        "- The model should consists of an Embedding layer, a SimpleRNN layer, and\n",
        "a Dense output layer.\n",
        "\n",
        "● Compile the model, specifying the appropriate optimizer, loss function, and\n",
        "metric"
      ],
      "metadata": {
        "id": "DX_iKm4Q5ler"
      }
    },
    {
      "cell_type": "code",
      "source": [
        "# fixing every word's embedding size to be 32\n",
        "embd_len = 32\n",
        "\n",
        "# Creating a RNN model\n",
        "RNN_model = Sequential(name=\"Simple_RNN\")\n",
        "RNN_model.add(Embedding(10000,\n",
        "                        embd_len,\n",
        "                        input_length=max_words))\n",
        "\n",
        "# In case of a stacked(more than one layer of RNN)\n",
        "# use return_sequences=True\n",
        "RNN_model.add(SimpleRNN(128,\n",
        "                        activation='tanh',\n",
        "                        return_sequences=False))\n",
        "RNN_model.add(Dense(1, activation='sigmoid'))\n",
        "\n",
        "# printing model summary\n",
        "print(RNN_model.summary())\n",
        "\n"
      ],
      "metadata": {
        "colab": {
          "base_uri": "https://localhost:8080/"
        },
        "id": "sBjwTvB45l-M",
        "outputId": "88869a3d-4109-4be5-dee5-a8826c23c046"
      },
      "execution_count": 20,
      "outputs": [
        {
          "output_type": "stream",
          "name": "stdout",
          "text": [
            "Model: \"Simple_RNN\"\n",
            "_________________________________________________________________\n",
            " Layer (type)                Output Shape              Param #   \n",
            "=================================================================\n",
            " embedding (Embedding)       (None, 400, 32)           320000    \n",
            "                                                                 \n",
            " simple_rnn (SimpleRNN)      (None, 128)               20608     \n",
            "                                                                 \n",
            " dense (Dense)               (None, 1)                 129       \n",
            "                                                                 \n",
            "=================================================================\n",
            "Total params: 340737 (1.30 MB)\n",
            "Trainable params: 340737 (1.30 MB)\n",
            "Non-trainable params: 0 (0.00 Byte)\n",
            "_________________________________________________________________\n",
            "None\n"
          ]
        }
      ]
    },
    {
      "cell_type": "code",
      "source": [
        "# Compiling model\n",
        "RNN_model.compile(\n",
        "    loss=\"binary_crossentropy\",\n",
        "    optimizer='adam',\n",
        "    metrics=['accuracy']\n",
        ")"
      ],
      "metadata": {
        "id": "isJkHGjh-goI"
      },
      "execution_count": 21,
      "outputs": []
    },
    {
      "cell_type": "markdown",
      "source": [
        "Question part : Training\n",
        "\n",
        "Train the model on the preprocessed movie reviews, using a batch size of\n",
        "128 and validating on 20% of the training data.\n",
        "\n",
        "● Run the training for 10 epochs"
      ],
      "metadata": {
        "id": "b1Ia7b4R6ENp"
      }
    },
    {
      "cell_type": "code",
      "source": [
        "# Training the model\n",
        "history = RNN_model.fit(x_train_, y_train_,\n",
        "                        batch_size=128,\n",
        "                        epochs=10,\n",
        "                        verbose=1,\n",
        "                        validation_data=(x_valid, y_valid))\n",
        "\n",
        "# Printing model score on test data\n",
        "print()\n",
        "print(\"Simple RNN Score---> \", RNN_model.evaluate(x_test, test_labels, verbose=0))"
      ],
      "metadata": {
        "colab": {
          "base_uri": "https://localhost:8080/"
        },
        "id": "svE8IRnE3XR3",
        "outputId": "e9651dd3-9f33-4539-9aa5-2da5a8cf3c3f"
      },
      "execution_count": 22,
      "outputs": [
        {
          "output_type": "stream",
          "name": "stdout",
          "text": [
            "Epoch 1/10\n",
            "195/195 [==============================] - 87s 437ms/step - loss: 0.6710 - accuracy: 0.5671 - val_loss: 0.7028 - val_accuracy: 0.4688\n",
            "Epoch 2/10\n",
            "195/195 [==============================] - 83s 428ms/step - loss: 0.5794 - accuracy: 0.6962 - val_loss: 0.5832 - val_accuracy: 0.7344\n",
            "Epoch 3/10\n",
            "195/195 [==============================] - 85s 436ms/step - loss: 0.4567 - accuracy: 0.7799 - val_loss: 0.6407 - val_accuracy: 0.6406\n",
            "Epoch 4/10\n",
            "195/195 [==============================] - 85s 438ms/step - loss: 0.5756 - accuracy: 0.7210 - val_loss: 0.5783 - val_accuracy: 0.7500\n",
            "Epoch 5/10\n",
            "195/195 [==============================] - 84s 433ms/step - loss: 0.4680 - accuracy: 0.7914 - val_loss: 0.5723 - val_accuracy: 0.7344\n",
            "Epoch 6/10\n",
            "195/195 [==============================] - 85s 433ms/step - loss: 0.4241 - accuracy: 0.8024 - val_loss: 0.6738 - val_accuracy: 0.5625\n",
            "Epoch 7/10\n",
            "195/195 [==============================] - 85s 437ms/step - loss: 0.5211 - accuracy: 0.7424 - val_loss: 0.5148 - val_accuracy: 0.7656\n",
            "Epoch 8/10\n",
            "195/195 [==============================] - 84s 432ms/step - loss: 0.3320 - accuracy: 0.8645 - val_loss: 0.4913 - val_accuracy: 0.7656\n",
            "Epoch 9/10\n",
            "195/195 [==============================] - 86s 437ms/step - loss: 0.4286 - accuracy: 0.7911 - val_loss: 0.7074 - val_accuracy: 0.6250\n",
            "Epoch 10/10\n",
            "195/195 [==============================] - 85s 434ms/step - loss: 0.3354 - accuracy: 0.8599 - val_loss: 0.5367 - val_accuracy: 0.7188\n",
            "\n",
            "Simple_RNN Score--->  [0.5851184129714966, 0.7281200289726257]\n"
          ]
        }
      ]
    },
    {
      "cell_type": "markdown",
      "source": [
        "Simple RNN accuracy for test dataset is - 72.81%"
      ],
      "metadata": {
        "id": "tgkSZjdlCjlR"
      }
    },
    {
      "cell_type": "code",
      "source": [],
      "metadata": {
        "id": "DsXeldaQmAvc"
      },
      "execution_count": null,
      "outputs": []
    }
  ]
}